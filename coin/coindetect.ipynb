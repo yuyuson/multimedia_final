{
 "cells": [
  {
   "cell_type": "code",
   "execution_count": null,
   "metadata": {},
   "outputs": [],
   "source": [
    "import cv2\n",
    "import numpy as np\n",
    "\n",
    "mg = cv2.imread(\"coin.jpg\") #輸入資料\n",
    "h, w, ch = img.shape #圖片高、寬、通道\n",
    "\n",
    "img = cv2.resize(img, (w//5, h//5), interpolation=cv2.INTER_NEAREST) #縮小圖片\n",
    "\n",
    "#灰階化\n",
    "\n",
    "#侵蝕\n",
    "\n",
    "#膨脹\n",
    "\n",
    "#連通物件\n",
    "\n",
    "\n",
    "\n",
    "\n",
    "#判斷幾元方法\n",
    "\n",
    "ans = 0 #輸出多少錢\n",
    "\n",
    "\n",
    "print(\"圖上共有 \",ans ,\"元\") #輸出答案 \n",
    "cv2.imshow(\"img\", img)\n",
    "cv2.imwrite('ans.jpg', img)\n",
    "cv2.imwrite('gray.jpg', gray)\n",
    "cv2.waitKey(0)"
   ]
  }
 ],
 "metadata": {
  "kernelspec": {
   "display_name": "Python 3",
   "language": "python",
   "name": "python3"
  },
  "language_info": {
   "codemirror_mode": {
    "name": "ipython",
    "version": 3
   },
   "file_extension": ".py",
   "mimetype": "text/x-python",
   "name": "python",
   "nbconvert_exporter": "python",
   "pygments_lexer": "ipython3",
   "version": "3.8.5"
  }
 },
 "nbformat": 4,
 "nbformat_minor": 4
}
