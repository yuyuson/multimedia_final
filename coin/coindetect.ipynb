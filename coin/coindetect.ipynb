{
 "cells": [
  {
   "cell_type": "code",
   "execution_count": null,
   "metadata": {},
   "outputs": [],
   "source": [
    "import cv2\n",
    "import numpy as np\n",
    "from matplotlib import pyplot as plt\n",
    "from PIL import Image, ImageDraw, ImageFont  # 載入 PIL 相關函式庫\n",
    "\n",
    "mg = cv2.imread(\"coin.jpg\") #輸入資料\n",
    "h, w, ch = img.shape #圖片高、寬、通道\n",
    "\n",
    "img = cv2.resize(img, (w//5, h//5), interpolation=cv2.INTER_NEAREST) #縮小圖片\n",
    "\n",
    "#灰階化\n",
    "\n",
    "#侵蝕\n",
    "\n",
    "#膨脹\n",
    "\n",
    "#連通物件\n",
    "\n",
    "\n",
    "\n",
    "\n",
    "#判斷幾元方法\n",
    "\n",
    "for it in stats:\n",
    "  itX = it[0]+it[2] #寬度\n",
    "  itY = it[1]+it[3] #高度\n",
    "\n",
    "  if(it[2] >= 60 and it[2] < 75): #1 dallars\n",
    "    cv2.rectangle(img, (it[0], it[1]), (itX, itY), (0, 0, 255), 2) #BGR \n",
    "    ans += 1\n",
    "  if(it[2] >= 75 and it[2] < 90): #5 dallars\n",
    "    cv2.rectangle(img, (it[0], it[1]), (itX, itY), (0, 165, 255), 2) #BGR\n",
    "    ans += 5\n",
    "  if(it[2] >= 90 and it[2] < 100): #10 dallars\n",
    "    cv2.rectangle(img, (it[0], it[1]), (itX, itY), (0, 255, 255), 2) #BGR \n",
    "    ans += 10\n",
    "  if(it[2] >= 100 and it[2] < 115): #50 dallars  \n",
    "    cv2.rectangle(img, (it[0], it[1]), (itX, itY), (0, 128, 0), 2) #BGR\n",
    "    ans += 50\n",
    "\n",
    "ans = 0 #輸出多少錢\n",
    "text = \"照片裡有 %s 元\" %ans\n",
    "fontpath = 'NotoSansTC-Regular.ttf'\n",
    "imgPil = Image.fromarray(img)                # 將 img 轉換成 PIL 影像\n",
    "draw = ImageDraw.Draw(imgPil)                # 準備開始畫畫\n",
    "draw.text((50, 0), text, fill=(255, 255, 0), font=ImageFont.truetype(fontpath, 50) )  # 畫入文字\n",
    "img = np.array(imgPil) \n",
    "\n",
    "print(\"圖上共有 \",ans ,\"元\") #輸出答案 \n",
    "cv2.imshow(\"img\", img)\n",
    "cv2.imwrite('ans.jpg', img)\n",
    "cv2.imwrite('gray.jpg', gray)\n",
    "cv2.waitKey(0)"
   ]
  }
 ],
 "metadata": {
  "kernelspec": {
   "display_name": "Python 3 (ipykernel)",
   "language": "python",
   "name": "python3"
  },
  "language_info": {
   "codemirror_mode": {
    "name": "ipython",
    "version": 3
   },
   "file_extension": ".py",
   "mimetype": "text/x-python",
   "name": "python",
   "nbconvert_exporter": "python",
   "pygments_lexer": "ipython3",
   "version": "3.11.5"
  }
 },
 "nbformat": 4,
 "nbformat_minor": 4
}
