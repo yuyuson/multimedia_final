{
 "cells": [
  {
   "cell_type": "code",
   "execution_count": 5,
   "metadata": {
    "scrolled": true
   },
   "outputs": [
    {
     "ename": "UnboundLocalError",
     "evalue": "cannot access local variable 'save_path' where it is not associated with a value",
     "output_type": "error",
     "traceback": [
      "\u001b[1;31m---------------------------------------------------------------------------\u001b[0m",
      "\u001b[1;31mUnboundLocalError\u001b[0m                         Traceback (most recent call last)",
      "Cell \u001b[1;32mIn[5], line 72\u001b[0m\n\u001b[0;32m     68\u001b[0m     \u001b[38;5;28;01mreturn\u001b[39;00m save_path\n\u001b[0;32m     70\u001b[0m \u001b[38;5;28;01mif\u001b[39;00m \u001b[38;5;18m__name__\u001b[39m \u001b[38;5;241m==\u001b[39m \u001b[38;5;124m\"\u001b[39m\u001b[38;5;124m__main__\u001b[39m\u001b[38;5;124m\"\u001b[39m:\n\u001b[1;32m---> 72\u001b[0m     name\u001b[38;5;241m=\u001b[39mopen_camera()\n\u001b[0;32m     73\u001b[0m     get_ipython()\u001b[38;5;241m.\u001b[39mrun_line_magic(\u001b[38;5;124m'\u001b[39m\u001b[38;5;124mstore\u001b[39m\u001b[38;5;124m'\u001b[39m, \u001b[38;5;124m'\u001b[39m\u001b[38;5;124mname\u001b[39m\u001b[38;5;124m'\u001b[39m)\n\u001b[0;32m     74\u001b[0m     get_ipython()\u001b[38;5;241m.\u001b[39mrun_line_magic(\u001b[38;5;124m'\u001b[39m\u001b[38;5;124mrun\u001b[39m\u001b[38;5;124m'\u001b[39m, \u001b[38;5;124m'\u001b[39m\u001b[38;5;124mcoindetect.ipynb\u001b[39m\u001b[38;5;124m'\u001b[39m)\n",
      "Cell \u001b[1;32mIn[5], line 68\u001b[0m, in \u001b[0;36mopen_camera\u001b[1;34m(camera_index)\u001b[0m\n\u001b[0;32m     66\u001b[0m cap\u001b[38;5;241m.\u001b[39mrelease()\n\u001b[0;32m     67\u001b[0m cv2\u001b[38;5;241m.\u001b[39mdestroyAllWindows()\n\u001b[1;32m---> 68\u001b[0m \u001b[38;5;28;01mreturn\u001b[39;00m save_path\n",
      "\u001b[1;31mUnboundLocalError\u001b[0m: cannot access local variable 'save_path' where it is not associated with a value"
     ]
    }
   ],
   "source": [
    "import cv2\n",
    "import time\n",
    "def open_camera(camera_index=0):\n",
    "    # 打開攝像頭\n",
    "    cap = cv2.VideoCapture(camera_index)\n",
    "    cap.set(cv2.CAP_PROP_FRAME_WIDTH,1080)#寬度\n",
    "    cap.set(cv2.CAP_PROP_FRAME_HEIGHT,960)#高度\n",
    "    #cap.set(cv2.CAP_PROP_BRIGHTNESS,10000) #亮度\n",
    "    cap.set(cv2.CAP_PROP_EXPOSURE,-5) #曝光度\n",
    "    # 檢查攝像頭是否成功打開\n",
    "    if not cap.isOpened():\n",
    "        print(\"無法打開攝像頭\")\n",
    "        return\n",
    "\n",
    "    while True:\n",
    "        # 讀取一帧圖像\n",
    "        ret, frame = cap.read()\n",
    "\n",
    "        # 檢查圖像是否成功讀取\n",
    "        if not ret:\n",
    "            print(\"無法讀取圖像\")\n",
    "            break\n",
    "\n",
    "        # 在窗口中顯示圖像\n",
    "        # 獲取圖像的高度和寬度\n",
    "        height, width, _ = frame.shape\n",
    "\n",
    "        # 計算圓心座標\n",
    "        center_coordinates = (width // 2, height // 2)\n",
    "\n",
    "        # 設定圓的半徑\n",
    "        radius = 70\n",
    "\n",
    "        # 設定顏色和線寬\n",
    "        color = (255, 255, 255)  # 白色\n",
    "        thickness = 2\n",
    "\n",
    "        # 在圖像上畫一個空心圓\n",
    "        cv2.circle(frame, center_coordinates, radius, color, thickness)\n",
    "\n",
    "        # 顯示帶有圓的圖像\n",
    "        cv2.imshow('Camera', frame)\n",
    "        \n",
    "\n",
    "        # 檢測按鍵事件\n",
    "        key = cv2.waitKey(1)\n",
    "\n",
    "        # 按下 'q' 鍵退出循環\n",
    "        if key & 0xFF == ord('q'):\n",
    "            \n",
    "            break\n",
    "\n",
    "        # 按下 'R' 鍵擷取並保存照片\n",
    "        elif key & 0xFF == ord('r'):\n",
    "            # 生成唯一的文件名，例如基于时间戳\n",
    "            timestamp = int(time.time())\n",
    "            save_path = f\"captured_photo_{timestamp}.jpg\"\n",
    "            \n",
    "            \n",
    "            # 保存当前帧的图像\n",
    "            cv2.imwrite(save_path, frame)\n",
    "            print(f'照片已保存到 {save_path}')\n",
    "            \n",
    "\n",
    "    # 釋放攝像頭資源\n",
    "    cap.release()\n",
    "    cv2.destroyAllWindows()\n",
    "    return save_path\n",
    "\n",
    "if __name__ == \"__main__\":\n",
    "    \n",
    "    name=open_camera()\n",
    "    %store name\n",
    "    %run coindetect.ipynb"
   ]
  },
  {
   "cell_type": "raw",
   "metadata": {},
   "source": []
  }
 ],
 "metadata": {
  "kernelspec": {
   "display_name": "Python 3 (ipykernel)",
   "language": "python",
   "name": "python3"
  },
  "language_info": {
   "codemirror_mode": {
    "name": "ipython",
    "version": 3
   },
   "file_extension": ".py",
   "mimetype": "text/x-python",
   "name": "python",
   "nbconvert_exporter": "python",
   "pygments_lexer": "ipython3",
   "version": "3.11.5"
  }
 },
 "nbformat": 4,
 "nbformat_minor": 4
}
