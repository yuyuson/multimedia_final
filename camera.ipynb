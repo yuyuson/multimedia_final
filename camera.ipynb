{
 "cells": [
  {
   "cell_type": "code",
   "execution_count": 3,
   "metadata": {},
   "outputs": [
    {
     "name": "stdout",
     "output_type": "stream",
     "text": [
      "照片已保存到 captured_photo_1703404199.jpg\n"
     ]
    }
   ],
   "source": [
    "import cv2\n",
    "import time\n",
    "def open_camera(camera_index=0):\n",
    "    # 打開攝像頭\n",
    "    cap = cv2.VideoCapture(camera_index)\n",
    "\n",
    "    # 檢查攝像頭是否成功打開\n",
    "    if not cap.isOpened():\n",
    "        print(\"無法打開攝像頭\")\n",
    "        return\n",
    "\n",
    "    while True:\n",
    "        # 讀取一帧圖像\n",
    "        ret, frame = cap.read()\n",
    "\n",
    "        # 檢查圖像是否成功讀取\n",
    "        if not ret:\n",
    "            print(\"無法讀取圖像\")\n",
    "            break\n",
    "\n",
    "        # 在窗口中顯示圖像\n",
    "        # 獲取圖像的高度和寬度\n",
    "        height, width, _ = frame.shape\n",
    "\n",
    "        # 計算圓心座標\n",
    "        center_coordinates = (width // 2, height // 2)\n",
    "\n",
    "        # 設定圓的半徑\n",
    "        radius = 50\n",
    "\n",
    "        # 設定顏色和線寬\n",
    "        color = (255, 255, 255)  # 白色\n",
    "        thickness = 2\n",
    "\n",
    "        # 在圖像上畫一個空心圓\n",
    "        cv2.circle(frame, center_coordinates, radius, color, thickness)\n",
    "\n",
    "        # 顯示帶有圓的圖像\n",
    "        cv2.imshow('Camera', frame)\n",
    "        \n",
    "\n",
    "        # 檢測按鍵事件\n",
    "        key = cv2.waitKey(1)\n",
    "\n",
    "        # 按下 'q' 鍵退出循環\n",
    "        if key & 0xFF == ord('q'):\n",
    "            break\n",
    "\n",
    "        # 按下 'R' 鍵擷取並保存照片\n",
    "        elif key & 0xFF == ord('r'):\n",
    "            # 生成唯一的文件名，例如基于时间戳\n",
    "            timestamp = int(time.time())\n",
    "            save_path = f\"captured_photo_{timestamp}.jpg\"\n",
    "            \n",
    "            # 保存当前帧的图像\n",
    "            cv2.imwrite(save_path, frame)\n",
    "            print(f'照片已保存到 {save_path}')\n",
    "\n",
    "    # 釋放攝像頭資源\n",
    "    cap.release()\n",
    "    cv2.destroyAllWindows()\n",
    "\n",
    "if __name__ == \"__main__\":\n",
    "    open_camera()"
   ]
  },
  {
   "cell_type": "code",
   "execution_count": null,
   "metadata": {},
   "outputs": [],
   "source": []
  },
  {
   "cell_type": "code",
   "execution_count": null,
   "metadata": {},
   "outputs": [],
   "source": []
  }
 ],
 "metadata": {
  "kernelspec": {
   "display_name": "Python 3",
   "language": "python",
   "name": "python3"
  },
  "language_info": {
   "codemirror_mode": {
    "name": "ipython",
    "version": 3
   },
   "file_extension": ".py",
   "mimetype": "text/x-python",
   "name": "python",
   "nbconvert_exporter": "python",
   "pygments_lexer": "ipython3",
   "version": "3.8.5"
  }
 },
 "nbformat": 4,
 "nbformat_minor": 4
}
